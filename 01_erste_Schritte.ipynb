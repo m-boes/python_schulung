{
 "cells": [
  {
   "cell_type": "markdown",
   "metadata": {},
   "source": [
    "# Hi, Python!"
   ]
  },
  {
   "cell_type": "markdown",
   "metadata": {},
   "source": [
    "# **Grundlagen**\n",
    "**Dateiformate:**\n",
    "- **.py** Dateien -> normale Python Dateien, die von oben nach unten ausgeführt werden\n",
    "- **.ipynb** Dateien -> Jupyter Notebooks (wie dieses); ermöglichen die Aufteilung des Codes in verschiedene Zellen\n",
    "    - **Markdown Zellen** (wie diese) sind hilfreich, um das Notebook zu Strukturieren \n",
    "    - **Code Zellen** beinhalten Python Code und lassen sich seperat ausführen \n",
    "    \n",
    "**Ausführen von Zellen:**\n",
    "- mit der Tastenkombination **\"strg + Enter\"** oder **\"shift + Enter\"** \n",
    "- mit einem Klick auf den **\"Play-Botton\"** oben in der Menüleiste des Notebooks."
   ]
  },
  {
   "cell_type": "markdown",
   "metadata": {},
   "source": [
    "Kommentare können durch ein \"#\" in Code Zellen eingefügt werden:"
   ]
  },
  {
   "cell_type": "code",
   "execution_count": 1,
   "metadata": {},
   "outputs": [],
   "source": [
    "# Kommentar"
   ]
  },
  {
   "cell_type": "markdown",
   "metadata": {},
   "source": [
    "**Nach dem ausführen** von Code Zellen wird automatisch der letzte Ausdruck angezeigt, während in einem Python Skript immer die Funktion **\"print()\"** benötigt wird:"
   ]
  },
  {
   "cell_type": "code",
   "execution_count": null,
   "metadata": {},
   "outputs": [],
   "source": [
    "'Hallo Welt!'"
   ]
  },
  {
   "cell_type": "code",
   "execution_count": null,
   "metadata": {},
   "outputs": [],
   "source": [
    "print('Hallo Welt!')"
   ]
  },
  {
   "cell_type": "markdown",
   "metadata": {},
   "source": [
    "**Variablen** sind in Python sind dynamisch typisiert, sodass, anders als beispielsweise in Makros, kein Datentyp zugewiesen werden muss. Variablennamen können frei vergeben werden. Soll ein Name aus zwei Wörtern bestehen empfiehlt sich eine Trennung mittels Unterstrich. Es gehört zum guten Ton Variablennamen immer klein zu schreiben. \n",
    "- name -> **OK**\n",
    "- Hausnummer -> **Falsch** (aber funktioniert)\n",
    "- name_haustier -> **OK**\n",
    "- Name Haustier -> **Falsch** (funktioniert auch nicht)"
   ]
  },
  {
   "cell_type": "code",
   "execution_count": 1,
   "metadata": {},
   "outputs": [
    {
     "name": "stdout",
     "output_type": "stream",
     "text": [
      "Niels\n"
     ]
    }
   ],
   "source": [
    "name_haustier = 'Niels'\n",
    "print(name_haustier)"
   ]
  },
  {
   "cell_type": "markdown",
   "metadata": {},
   "source": [
    "**Eingaben** durch den Nutzer werden durch die Funktion **input()** ermöglicht:"
   ]
  },
  {
   "cell_type": "code",
   "execution_count": 3,
   "metadata": {},
   "outputs": [
    {
     "name": "stdout",
     "output_type": "stream",
     "text": [
      "7\n"
     ]
    }
   ],
   "source": [
    "alter_haustier = input('Bitte gebe das Alter an: ')\n",
    "print(alter_haustier)"
   ]
  },
  {
   "cell_type": "markdown",
   "metadata": {},
   "source": [
    "# **Datenformate in Python**\n",
    "Datenformate spielen in Python eine zentrale Rolle und führen nicht selten zu Fehlern. Beispielsweise kann eine\n",
    "Zahl (integer oder float) nicht mit einem Wort (string) addieret werden. \n",
    "\n",
    "Welche grundlegenden Datenformate gibt es?\n",
    "- Integer\n",
    "- Floats\n",
    "- Boolean\n",
    "- String\n"
   ]
  },
  {
   "cell_type": "markdown",
   "metadata": {},
   "source": [
    "## **1. Strings:** Zeichenketten\n",
    "Strings werden mit einfachen (**''**) oder doppelten (**\"\"**) Anführungszeichen erfasst.\n"
   ]
  },
  {
   "cell_type": "code",
   "execution_count": 16,
   "metadata": {},
   "outputs": [
    {
     "name": "stdout",
     "output_type": "stream",
     "text": [
      "Das ist ein String.\n"
     ]
    }
   ],
   "source": [
    "print('Das ist ein String.')"
   ]
  },
  {
   "cell_type": "markdown",
   "metadata": {},
   "source": [
    "Strings lassen sich mittels \"+\" zusammenfügen:"
   ]
  },
  {
   "cell_type": "code",
   "execution_count": 19,
   "metadata": {},
   "outputs": [
    {
     "name": "stdout",
     "output_type": "stream",
     "text": [
      "python-school\n"
     ]
    }
   ],
   "source": [
    "wort_1 = 'python'\n",
    "wort_2 = 'school'\n",
    "print(wort_1 + '-' + wort_2)"
   ]
  },
  {
   "cell_type": "markdown",
   "metadata": {},
   "source": [
    "Mittels der Funktion **\"str()\"** lassen sich Python-Objekte in Strings umwandeln:"
   ]
  },
  {
   "cell_type": "code",
   "execution_count": 18,
   "metadata": {},
   "outputs": [
    {
     "name": "stdout",
     "output_type": "stream",
     "text": [
      "Auch das ist jetzt ein String: 7\n"
     ]
    }
   ],
   "source": [
    "a = 7\n",
    "print('Auch das ist jetzt ein String: ' + str(a))"
   ]
  },
  {
   "cell_type": "markdown",
   "metadata": {},
   "source": [
    "Mittels der **\"Slice-Notation\"** lassen sich Zeichen aus einem String extrahieren.\n",
    "- Aufbau: **string[start:ende]**\n",
    "- Das erste Zeichen besitzt den Index 0\n",
    "- Der Start-Index ist inkludiert und der Ende-Index ist exkludiert"
   ]
  },
  {
   "cell_type": "code",
   "execution_count": 21,
   "metadata": {},
   "outputs": [
    {
     "data": {
      "text/plain": [
       "'p'"
      ]
     },
     "execution_count": 21,
     "metadata": {},
     "output_type": "execute_result"
    }
   ],
   "source": [
    "kurs = 'python-summer-school'\n",
    "kurs[0]"
   ]
  },
  {
   "cell_type": "code",
   "execution_count": 25,
   "metadata": {},
   "outputs": [
    {
     "data": {
      "text/plain": [
       "'summer'"
      ]
     },
     "execution_count": 25,
     "metadata": {},
     "output_type": "execute_result"
    }
   ],
   "source": [
    "kurs[7:13]"
   ]
  },
  {
   "cell_type": "code",
   "execution_count": 22,
   "metadata": {},
   "outputs": [
    {
     "data": {
      "text/plain": [
       "'python'"
      ]
     },
     "execution_count": 22,
     "metadata": {},
     "output_type": "execute_result"
    }
   ],
   "source": [
    "kurs[:6]  # Beim auslassen des ersten Index wird bei \"0\" begonnen "
   ]
  },
  {
   "cell_type": "code",
   "execution_count": 24,
   "metadata": {},
   "outputs": [
    {
     "data": {
      "text/plain": [
       "'summer-school'"
      ]
     },
     "execution_count": 24,
     "metadata": {},
     "output_type": "execute_result"
    }
   ],
   "source": [
    "kurs[7:]  # Beim auslassen des zweiten Index reicht die Extraktion bis zum Ende "
   ]
  },
  {
   "cell_type": "markdown",
   "metadata": {},
   "source": [
    "> **Aufgabe:** Weise den Variablen \"lieblingsfarbe\" deine Lieblingsfarbe zu und lasse sie dir mittels \"print()\"-Funktion ausgeben."
   ]
  },
  {
   "cell_type": "code",
   "execution_count": null,
   "metadata": {},
   "outputs": [],
   "source": []
  },
  {
   "cell_type": "markdown",
   "metadata": {},
   "source": [
    "## **2. Integer:** Ganze Zahlen\n",
    "Ganze Zahlen werden in Python durch den Datentyp Integer (int) beschrieben.\n",
    "\n",
    "Mit Integern lassen sich die gängigen **Rechenoperationen** durchführen:\n",
    "- \"+\" (Addition)\n",
    "- \"-\" (Subtraktion)\n",
    "- \"*\" (Multiplikation)\n",
    "- \"/\" (Division)\n",
    "- \"**\" (Potenzierung)\n",
    "\n"
   ]
  },
  {
   "cell_type": "code",
   "execution_count": 2,
   "metadata": {},
   "outputs": [
    {
     "name": "stdout",
     "output_type": "stream",
     "text": [
      "100\n"
     ]
    }
   ],
   "source": [
    "a = 20 + 80\n",
    "print(a)"
   ]
  },
  {
   "cell_type": "code",
   "execution_count": 3,
   "metadata": {},
   "outputs": [
    {
     "name": "stdout",
     "output_type": "stream",
     "text": [
      "30\n"
     ]
    }
   ],
   "source": [
    "b = (20 - 5) * 2\n",
    "print(b)"
   ]
  },
  {
   "cell_type": "markdown",
   "metadata": {},
   "source": [
    "Auch mit Variablen kann gerechnet werden:"
   ]
  },
  {
   "cell_type": "code",
   "execution_count": 4,
   "metadata": {},
   "outputs": [
    {
     "data": {
      "text/plain": [
       "3000"
      ]
     },
     "execution_count": 4,
     "metadata": {},
     "output_type": "execute_result"
    }
   ],
   "source": [
    "a * b"
   ]
  },
  {
   "cell_type": "markdown",
   "metadata": {},
   "source": [
    "Aus einer **Division** folgt immer ein **Float** (Gleitkommazahl):"
   ]
  },
  {
   "cell_type": "code",
   "execution_count": 5,
   "metadata": {},
   "outputs": [
    {
     "data": {
      "text/plain": [
       "4.0"
      ]
     },
     "execution_count": 5,
     "metadata": {},
     "output_type": "execute_result"
    }
   ],
   "source": [
    "20 / 5"
   ]
  },
  {
   "cell_type": "markdown",
   "metadata": {},
   "source": [
    "> **Aufgabe**: Du legst 100 zu einem Zinsatz von 7 % p.a. an. Wie viel Geld hast du nach 10 Jahren? Speichere das Ergebnis in einer Variablen und lasse es dir mittel der **print()**-Funktion ausgeben. \n",
    "\n",
    "> (Formel: Startkapital * (1+Zinssatz)^Jahre)"
   ]
  },
  {
   "cell_type": "code",
   "execution_count": null,
   "metadata": {},
   "outputs": [],
   "source": []
  },
  {
   "cell_type": "markdown",
   "metadata": {},
   "source": [
    "## **3. Floats:** Gleitkommazahl\n",
    "- Zahlen mit **Nachkommastellen**\n",
    "- werden mit einem \".\" eingeleitet (z.B. 7.36)\n",
    "- Sehr große und sehr kleine float-Zahlen können dabei auch in **Exponentialschreibweise** angegeben werden (z.B. 5.2e5)\n",
    "- wie bei den Integern, sind auch hier **Rechenoperationen** möglich"
   ]
  },
  {
   "cell_type": "code",
   "execution_count": 6,
   "metadata": {},
   "outputs": [
    {
     "name": "stdout",
     "output_type": "stream",
     "text": [
      "3.4556\n"
     ]
    }
   ],
   "source": [
    "a = 3.4556\n",
    "print(a)"
   ]
  },
  {
   "cell_type": "code",
   "execution_count": 8,
   "metadata": {},
   "outputs": [
    {
     "data": {
      "text/plain": [
       "520000.0"
      ]
     },
     "execution_count": 8,
     "metadata": {},
     "output_type": "execute_result"
    }
   ],
   "source": [
    "5.2e5"
   ]
  },
  {
   "cell_type": "markdown",
   "metadata": {},
   "source": [
    "## **4. Boolean:** True oder False\n",
    "- Boolsche Variablen können als Resultat nur die Werte **True (Wahr)** und **False (Falsch)** annehmen\n",
    "- Python interpretiert False automatisch als 0 und True als 1\n",
    "- Boolsche Werte sind insbesonders im Rahmen von **Schleifen** und **Bedingungen** von essenzieller Bedeutung\n"
   ]
  },
  {
   "cell_type": "code",
   "execution_count": 9,
   "metadata": {},
   "outputs": [
    {
     "data": {
      "text/plain": [
       "True"
      ]
     },
     "execution_count": 9,
     "metadata": {},
     "output_type": "execute_result"
    }
   ],
   "source": [
    "1 == 1"
   ]
  },
  {
   "cell_type": "code",
   "execution_count": 11,
   "metadata": {},
   "outputs": [
    {
     "data": {
      "text/plain": [
       "False"
      ]
     },
     "execution_count": 11,
     "metadata": {},
     "output_type": "execute_result"
    }
   ],
   "source": [
    "1 == 'Eins'"
   ]
  },
  {
   "cell_type": "markdown",
   "metadata": {},
   "source": [
    "> **Aufgabe:** Prüfe, ob **0.007** **7.e-3** entspricht."
   ]
  },
  {
   "cell_type": "code",
   "execution_count": null,
   "metadata": {},
   "outputs": [],
   "source": []
  },
  {
   "cell_type": "markdown",
   "metadata": {},
   "source": [
    "# **Listen und Dictionaries**\n",
    "Zahlen und Variablen können durch Listen und Dictionaries in eine **Struktur** gebracht werden\n"
   ]
  },
  {
   "cell_type": "markdown",
   "metadata": {},
   "source": [
    "## **1. Listen**\n",
    "- eine Liste ist eine **indexierte Sammlung von Werten (Elementen)**\n",
    "- sie wird mittels **\"[\"** initiert und endet mit **\"]\"**\n",
    "- die enthaltenen Elemente werden durch **\",\"** getrennt\n",
    "- Datentypen können gemischt und Listen verschachtelt sein"
   ]
  },
  {
   "cell_type": "code",
   "execution_count": 27,
   "metadata": {},
   "outputs": [
    {
     "name": "stdout",
     "output_type": "stream",
     "text": [
      "['Max', 'Mustermann', 25, 'Bonn']\n"
     ]
    }
   ],
   "source": [
    "liste = ['Max', 'Mustermann', 25, 'Bonn']\n",
    "print(liste)"
   ]
  },
  {
   "cell_type": "markdown",
   "metadata": {},
   "source": [
    "Ähnlich wie bei den Strings, könnt ihr die Elemente der Liste mittels der **Slice-Notation** auswählen:"
   ]
  },
  {
   "cell_type": "code",
   "execution_count": 28,
   "metadata": {},
   "outputs": [
    {
     "data": {
      "text/plain": [
       "'Max'"
      ]
     },
     "execution_count": 28,
     "metadata": {},
     "output_type": "execute_result"
    }
   ],
   "source": [
    "liste[0]"
   ]
  },
  {
   "cell_type": "code",
   "execution_count": 30,
   "metadata": {},
   "outputs": [
    {
     "data": {
      "text/plain": [
       "['Mustermann', 25]"
      ]
     },
     "execution_count": 30,
     "metadata": {},
     "output_type": "execute_result"
    }
   ],
   "source": [
    "liste[1:3]"
   ]
  },
  {
   "cell_type": "markdown",
   "metadata": {},
   "source": [
    "Mittels der Funktion **\"len(liste)\"** könnt ihr euch die Anzahl der in der Liste enthaltenen Elemente ausgeben lassen:"
   ]
  },
  {
   "cell_type": "code",
   "execution_count": 32,
   "metadata": {},
   "outputs": [
    {
     "data": {
      "text/plain": [
       "4"
      ]
     },
     "execution_count": 32,
     "metadata": {},
     "output_type": "execute_result"
    }
   ],
   "source": [
    "len(liste)"
   ]
  },
  {
   "cell_type": "markdown",
   "metadata": {},
   "source": [
    "Elemente einer Liste können **verändert** werden:"
   ]
  },
  {
   "cell_type": "code",
   "execution_count": 33,
   "metadata": {},
   "outputs": [
    {
     "name": "stdout",
     "output_type": "stream",
     "text": [
      "28\n"
     ]
    }
   ],
   "source": [
    "liste[2] = liste[2] + 3\n",
    "print(liste[2])"
   ]
  },
  {
   "cell_type": "markdown",
   "metadata": {},
   "source": [
    "Weitere **Methoden**, um Listen zu bearbeiten:\n",
    "- **liste.append(x)**  ->  hängt ein **neues Element** x ans Ende der Liste\n",
    "- **liste.remove(x)**  ->  **entfernt** das erste Element dessen Wert x lautet\n",
    "- **liste.count(x)**  ->  gibt die **Anzahl** von x in der Liste zurück\n",
    "- **liste.sort(x)**  ->  **sortitert** die Liste\n",
    "- **liste.reverse(x)**  ->  kehrt die Reihenfolge der Elemente um"
   ]
  },
  {
   "cell_type": "markdown",
   "metadata": {},
   "source": [
    "> **Aufgabe_a):** Erstelle eine Liste mit deinem Namen und deinem Hobby und lasse dir mittels der \"print()\"-Funktion den Text: Ich heiße [dein Name] und mein Hobby ist [dein Hobby] ausgeben."
   ]
  },
  {
   "cell_type": "code",
   "execution_count": null,
   "metadata": {},
   "outputs": [],
   "source": []
  },
  {
   "cell_type": "markdown",
   "metadata": {},
   "source": [
    "> **Aufgabe_b):** Dir fällt ein, dass dein Hobby eigentlich Python ist. Ändere die Liste und lasse dir den Text erneut ausgeben."
   ]
  },
  {
   "cell_type": "code",
   "execution_count": null,
   "metadata": {},
   "outputs": [],
   "source": []
  },
  {
   "cell_type": "markdown",
   "metadata": {},
   "source": [
    "## **2. Dictionaries**\n",
    "- ein Dictionary besteht aus **Wertepaaren** (**Schlüssel** und **Element**)\n",
    "- es wird mit **\"{\"** initiiert und endet mit **\"}\"**\n",
    "- **Aufbau:** {Schlüssel_1: Wert_1, Schlüssel_2: Wert_2}"
   ]
  },
  {
   "cell_type": "code",
   "execution_count": 35,
   "metadata": {},
   "outputs": [
    {
     "name": "stdout",
     "output_type": "stream",
     "text": [
      "{'Vorname': 'Max', 'Nachname': 'Mustermann', 'Alter': 25, 'Wohnort': 'Bonn'}\n"
     ]
    }
   ],
   "source": [
    "dictionary = {'Vorname': 'Max', 'Nachname': 'Mustermann', 'Alter': 25, 'Wohnort': 'Bonn'}\n",
    "print(dictionary)"
   ]
  },
  {
   "cell_type": "markdown",
   "metadata": {},
   "source": [
    "Auf die Elemente wird nicht wie bei Listen über den Index, sondern über den **Schlüssel** **zugegriffen**:"
   ]
  },
  {
   "cell_type": "code",
   "execution_count": 36,
   "metadata": {},
   "outputs": [
    {
     "data": {
      "text/plain": [
       "'Max'"
      ]
     },
     "execution_count": 36,
     "metadata": {},
     "output_type": "execute_result"
    }
   ],
   "source": [
    "dictionary['Vorname']"
   ]
  },
  {
   "cell_type": "markdown",
   "metadata": {},
   "source": [
    "Über den **Schlüssel** lassen sich die Elemente auch **ändern**:"
   ]
  },
  {
   "cell_type": "code",
   "execution_count": 38,
   "metadata": {},
   "outputs": [
    {
     "data": {
      "text/plain": [
       "{'Vorname': 'Max', 'Nachname': 'Mustermann', 'Alter': 25, 'Wohnort': 'Köln'}"
      ]
     },
     "execution_count": 38,
     "metadata": {},
     "output_type": "execute_result"
    }
   ],
   "source": [
    "dictionary['Wohnort'] = 'Köln'\n",
    "dictionary"
   ]
  },
  {
   "cell_type": "markdown",
   "metadata": {},
   "source": [
    "Analog dazu lassen sich auch neue Wertepaare **hinzufügen**:"
   ]
  },
  {
   "cell_type": "code",
   "execution_count": 39,
   "metadata": {},
   "outputs": [
    {
     "data": {
      "text/plain": [
       "{'Vorname': 'Max',\n",
       " 'Nachname': 'Mustermann',\n",
       " 'Alter': 25,\n",
       " 'Wohnort': 'Köln',\n",
       " 'Augenfarbe': 'blau'}"
      ]
     },
     "execution_count": 39,
     "metadata": {},
     "output_type": "execute_result"
    }
   ],
   "source": [
    "dictionary['Augenfarbe'] = 'blau'\n",
    "dictionary"
   ]
  },
  {
   "cell_type": "markdown",
   "metadata": {},
   "source": [
    "Durch dictionary **.pop(x)** lässt sich das Element mit dem Schlüssel x **entfernen**:"
   ]
  },
  {
   "cell_type": "code",
   "execution_count": 40,
   "metadata": {},
   "outputs": [
    {
     "data": {
      "text/plain": [
       "{'Vorname': 'Max', 'Nachname': 'Mustermann', 'Alter': 25, 'Wohnort': 'Köln'}"
      ]
     },
     "execution_count": 40,
     "metadata": {},
     "output_type": "execute_result"
    }
   ],
   "source": [
    "dictionary.pop('Augenfarbe')\n",
    "dictionary"
   ]
  },
  {
   "cell_type": "markdown",
   "metadata": {},
   "source": [
    "> **Aufgabe:** Lasse dir Nachnamen und Wohnort von Max ausgeben."
   ]
  },
  {
   "cell_type": "code",
   "execution_count": null,
   "metadata": {},
   "outputs": [],
   "source": []
  },
  {
   "cell_type": "markdown",
   "metadata": {},
   "source": [
    "# **Schleifen**\n",
    "- durch Schleifen können Anweisungen **wiederholt ausgeführt** werden\n",
    "- so kann an Schreibarbeitet gespart werden und das Skript wird übersichtlicher\n",
    "\n",
    "Es wird zwischen der **for_Schleife** und der **while_Schleife** unterschieden. Ihr werdet meist die **for-Schleife** benötigen, weßhalb wir auf diese näher eingehen.\n",
    "\n",
    "**for-Schleifen** sind wie folgt **aufgebaut**:"
   ]
  },
  {
   "cell_type": "code",
   "execution_count": null,
   "metadata": {},
   "outputs": [],
   "source": [
    "for Element in Objekt:\n",
    "    Anweisung  # Das Einrücken der Anweisung in den Schleifenlörper ist essentiell\n",
    "    ...\n",
    "    Anweisung\n",
    "else:\n",
    "    Anweisung\n",
    "    ...\n",
    "    Anweisung"
   ]
  },
  {
   "cell_type": "markdown",
   "metadata": {},
   "source": [
    "Beispiele:"
   ]
  },
  {
   "cell_type": "code",
   "execution_count": 42,
   "metadata": {},
   "outputs": [
    {
     "name": "stdout",
     "output_type": "stream",
     "text": [
      "1\n",
      "2\n",
      "3\n",
      "4\n",
      "5\n"
     ]
    }
   ],
   "source": [
    "liste = [1, 2, 3, 4, 5]\n",
    "\n",
    "for element in liste:\n",
    "    print(element)"
   ]
  },
  {
   "cell_type": "code",
   "execution_count": 43,
   "metadata": {},
   "outputs": [
    {
     "name": "stdout",
     "output_type": "stream",
     "text": [
      "5\n"
     ]
    }
   ],
   "source": [
    "anzahl = 0\n",
    "\n",
    "for element in liste:\n",
    "    anzahl = anzahl + 1\n",
    "\n",
    "print(anzahl)"
   ]
  },
  {
   "cell_type": "markdown",
   "metadata": {},
   "source": [
    "Durch die **range()**-Funktion lässt sich festlegen, wie oft die Schleife durchlaufen werden soll. Aufbau:\n",
    "- range(stop)\n",
    "- range(start, stop)\n",
    "- range(start, stop, schritt)"
   ]
  },
  {
   "cell_type": "code",
   "execution_count": 44,
   "metadata": {},
   "outputs": [
    {
     "name": "stdout",
     "output_type": "stream",
     "text": [
      "0\n",
      "1\n",
      "2\n",
      "3\n",
      "4\n"
     ]
    }
   ],
   "source": [
    "for i in range(5):\n",
    "    print(i)"
   ]
  },
  {
   "cell_type": "code",
   "execution_count": 45,
   "metadata": {},
   "outputs": [
    {
     "name": "stdout",
     "output_type": "stream",
     "text": [
      "1\n",
      "2\n",
      "3\n",
      "4\n"
     ]
    }
   ],
   "source": [
    "for i in range(1, 5):\n",
    "    print(i)"
   ]
  },
  {
   "cell_type": "code",
   "execution_count": 48,
   "metadata": {},
   "outputs": [
    {
     "name": "stdout",
     "output_type": "stream",
     "text": [
      "0\n",
      "2\n",
      "4\n",
      "6\n",
      "8\n"
     ]
    }
   ],
   "source": [
    "for i in range(0, 10, 2):\n",
    "    print(i)"
   ]
  },
  {
   "cell_type": "markdown",
   "metadata": {},
   "source": [
    "> **Aufgabe:** Lasse dir die Summe der Zahlen von 1-20 ausgeben. (Lösung: 210)"
   ]
  },
  {
   "cell_type": "code",
   "execution_count": null,
   "metadata": {},
   "outputs": [],
   "source": []
  },
  {
   "cell_type": "markdown",
   "metadata": {},
   "source": [
    "# **Bedingungen**\n",
    "- eine Bedingung ist eine **Wenn-Dann-Sonst Anweisung**\n",
    "- so lassen sich Anweisungen ausführen, wenn eine bestimmt Bedingung erfüllt ist\n",
    "\n",
    "**Aufbau:**"
   ]
  },
  {
   "cell_type": "code",
   "execution_count": null,
   "metadata": {},
   "outputs": [],
   "source": [
    "if Bedingung_wahr:          # Prüfung, ob Bedingung erfüllt ist\n",
    "    Anweisung               # Anweisung, wenn Bedingung erfüllt is\n",
    "elif Bedingung_2_wahr:      # durch elif lassen sich beliebig viele weitere Bedingungen einfügen\n",
    "    Anweisung\n",
    "else:                       # \"else\" leitet die Anweisung ein, die ausgeführt werden soll, wenn keine vorherige Bedingung zutrifft  \n",
    "    Anweisung "
   ]
  },
  {
   "cell_type": "markdown",
   "metadata": {},
   "source": [
    "Wichtige **Vergleichoperatoren:**\n",
    "- **\"=\"**   ->  (ist gleich)\n",
    "- **\"!=\"**  ->  (ist ungleich)\n",
    "- **\">\"**   ->  (größer)\n",
    "- **\">=\"**  ->  (größer gleich)\n",
    "- **\"<\"**   ->  (kleiner)\n",
    "- **\"<=\"**  ->  (kleiner gleich)"
   ]
  },
  {
   "cell_type": "markdown",
   "metadata": {},
   "source": [
    "Beispiel:"
   ]
  },
  {
   "cell_type": "code",
   "execution_count": 51,
   "metadata": {},
   "outputs": [
    {
     "name": "stdout",
     "output_type": "stream",
     "text": [
      "true\n"
     ]
    }
   ],
   "source": [
    "if 1 == 1:\n",
    "    print('true')\n",
    "else:\n",
    "    print('false')"
   ]
  },
  {
   "cell_type": "code",
   "execution_count": 52,
   "metadata": {},
   "outputs": [
    {
     "name": "stdout",
     "output_type": "stream",
     "text": [
      "false\n"
     ]
    }
   ],
   "source": [
    "if 1 == 2:\n",
    "    print('true')\n",
    "else:\n",
    "    print('false')"
   ]
  },
  {
   "cell_type": "code",
   "execution_count": 53,
   "metadata": {},
   "outputs": [
    {
     "name": "stdout",
     "output_type": "stream",
     "text": [
      "false\n"
     ]
    }
   ],
   "source": [
    "if 1 > 2:\n",
    "    print('true')\n",
    "else:\n",
    "    print('false')"
   ]
  },
  {
   "cell_type": "markdown",
   "metadata": {},
   "source": [
    "> **Aufgabe:** Ermittel aus der Liste \"bestellmengen\" die Anzahl der Bestellmengen, die größer als 10 sind. (**Tipp:** Verwende hierbei eine for-Schleife in Kombination mit einer Bedingung)"
   ]
  },
  {
   "cell_type": "code",
   "execution_count": 54,
   "metadata": {},
   "outputs": [],
   "source": [
    "bestellmengen = [4, 23, 12, 2, 6, 32, 13, 1, 5, 34, 56, 2, 36, 56, 4, 34, 21, 4, 23]"
   ]
  },
  {
   "cell_type": "code",
   "execution_count": null,
   "metadata": {},
   "outputs": [],
   "source": []
  }
 ],
 "metadata": {
  "interpreter": {
   "hash": "bf38e59c9f91f991676ee20e23fd1d46e31184c6ac0411730292ab69d76d1d5b"
  },
  "kernelspec": {
   "display_name": "Python 3.9.4 64-bit",
   "language": "python",
   "name": "python3"
  },
  "language_info": {
   "codemirror_mode": {
    "name": "ipython",
    "version": 3
   },
   "file_extension": ".py",
   "mimetype": "text/x-python",
   "name": "python",
   "nbconvert_exporter": "python",
   "pygments_lexer": "ipython3",
   "version": "3.9.4"
  }
 },
 "nbformat": 4,
 "nbformat_minor": 4
}
