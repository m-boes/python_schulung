{
 "cells": [
  {
   "cell_type": "markdown",
   "metadata": {},
   "source": [
    "# **Tabellen**\n",
    "- **\"Pandas\"** ist eine Python **Erweiterung** (Bibliothek), die das Arbeiten mit Tabellen (bzw. DataFrames) ermöglicht und viele **vordefinierte Funktionen** mit sich bringt\n",
    "- so können Excel-Dateien **eingelesen**, **bearbeitet** und **geschrieben** werden\n",
    "- pandas zählt 19 Mio. Downloads pro Woche\n",
    "- Weitere Bibliotheken sind z.B.:\n",
    "    - \"openpyxl\", zur Erstellung/Anpassung von Excel-Dateien\n",
    "    - \"xlwings\", zur Steuerung von Excel-Dateien\n",
    "    - \"matplotlib\", zur Erstellung von Grafiken\n",
    "- viele Bibliotheken sind vorinstalliert und können durch den Befehl **\"import\"** geladen werden"
   ]
  },
  {
   "cell_type": "code",
   "execution_count": null,
   "metadata": {},
   "outputs": [],
   "source": [
    "import pandas as pd  # Die Bibliothek pandas wird geladen und als \"pd\" benannt"
   ]
  },
  {
   "cell_type": "markdown",
   "metadata": {},
   "source": [
    "## **Daten einlesen**\n",
    "Mit der Funktion **\"pd.read_excel()\"** können **Excel-Tabellen eingelesen** und in DataFrames umgewandelt werden. Dabei müssen/können der Funktion **Argumente** übergeben werden, wie z.B.:\n",
    "- **io**            ->  Dateipfad zur Excel-Datei\n",
    "- **sheet_name**    ->  Name des Tabellenblatts\n",
    "- **skiprows**      ->  legt fest, ab welcher Zeile die Daten eingelesen werden sollen\n",
    "- **usecols**       ->  legt fest, welche Spalten eingelesen werden sollen    "
   ]
  },
  {
   "cell_type": "code",
   "execution_count": null,
   "metadata": {},
   "outputs": [],
   "source": [
    "kundendaten = pd.read_excel(io = 'Kundendaten.xlsx', sheet_name = 'Kundendaten', skiprows = 1, usecols = 'A:F')\n",
    "kundendaten"
   ]
  },
  {
   "cell_type": "markdown",
   "metadata": {},
   "source": [
    "## **Spalten hinzufügen**"
   ]
  },
  {
   "cell_type": "code",
   "execution_count": null,
   "metadata": {},
   "outputs": [],
   "source": [
    "kundendaten['Kenner'] = 'x'\n",
    "kundendaten"
   ]
  },
  {
   "cell_type": "code",
   "execution_count": null,
   "metadata": {},
   "outputs": [],
   "source": [
    "# Ihr könnt bei der Bildung einer neuen Spalte auch auf bestehende Spalten referenzieren\n",
    "kundendaten['Name'] = kundendaten['Vorname'] + ' ' + kundendaten['Nachname']\n",
    "kundendaten"
   ]
  },
  {
   "cell_type": "markdown",
   "metadata": {},
   "source": [
    "## **Spalten filtern**"
   ]
  },
  {
   "cell_type": "code",
   "execution_count": null,
   "metadata": {},
   "outputs": [],
   "source": [
    "# 2 Möglichkeiten, um Spalten zu Filtern \n",
    "kundendaten_kopie = kundendaten.copy()\n",
    "\n",
    "# 1. Möglichkeit\n",
    "kundendaten = kundendaten[['Kunden-ID', 'Nachname', 'Wohnort', 'Bestellungen']]\n",
    "print(kundendaten)\n",
    "\n",
    "# 2. Möglichkeit\n",
    "kundendaten_kopie = kundendaten_kopie.drop(columns = ['Vorname', 'Straße/Hausnummer', 'Kenner', 'Name'])\n",
    "print(kundendaten_kopie)"
   ]
  },
  {
   "cell_type": "markdown",
   "metadata": {},
   "source": [
    "## **Spalten umbenennen** "
   ]
  },
  {
   "cell_type": "code",
   "execution_count": null,
   "metadata": {},
   "outputs": [],
   "source": [
    "kundendaten = kundendaten.rename(columns={'Bestellungen': 'Anzahl Bestellungen'})\n",
    "kundendaten"
   ]
  },
  {
   "cell_type": "markdown",
   "metadata": {},
   "source": [
    "## **Daten schreiben**\n",
    "Mit der Funktion **\"df.to_excel()\"** können aus DataFrames Excel-Dateien erstellt werden. Dabei müssen/können der Funktion **Argumente** übergeben werden, wie z.B.:\n",
    "- **\"excel_writer\"**    ->  Speicherort und Name der Datei\n",
    "- **\"sheet_name\"**      ->  Name des Tabellenblattes \n",
    "- **\"index\"**           ->  legt fest, ob die Index-Spalte bleiben soll "
   ]
  },
  {
   "cell_type": "code",
   "execution_count": null,
   "metadata": {},
   "outputs": [],
   "source": [
    "kundendaten.to_excel(excel_writer = 'Kundendaten_2.xlsx', sheet_name = 'Kundendaten_2', index = False)  # durch \"index = False\" wird der Zeilenindex nicht mit in die Excel-Datei geschrieben"
   ]
  },
  {
   "cell_type": "markdown",
   "metadata": {},
   "source": [
    "## **Zeilen filtern**\n",
    "Mit **\"df.loc[df[Spaltenname] == x]\"** können DateFrames nach x gefiltert werden:"
   ]
  },
  {
   "cell_type": "code",
   "execution_count": null,
   "metadata": {},
   "outputs": [],
   "source": [
    "kundendaten_a = kundendaten.loc[kundendaten['Anzahl Bestellungen'] >= 100]\n",
    "kundendaten_a"
   ]
  },
  {
   "cell_type": "markdown",
   "metadata": {},
   "source": [
    "Mit **\"df.loc[df[Spaltenname] == x, 'Neuer Spaltenname'] = Wert\"** können DataFrames gefiltert und Werte in einer neuen Spalte eingefügt werden:"
   ]
  },
  {
   "cell_type": "code",
   "execution_count": null,
   "metadata": {},
   "outputs": [],
   "source": [
    "kundendaten.loc[kundendaten['Anzahl Bestellungen'] >= 100, 'Kategorie'] = 'A'\n",
    "kundendaten"
   ]
  },
  {
   "cell_type": "markdown",
   "metadata": {},
   "source": [
    "> **Aufgabe:** Weise den restlichen Kunden (Anzahl Bestellungen < 100) die Kategorie \"B\" zu.\n"
   ]
  },
  {
   "cell_type": "code",
   "execution_count": null,
   "metadata": {},
   "outputs": [],
   "source": []
  },
  {
   "cell_type": "markdown",
   "metadata": {},
   "source": [
    "Wir haben die **Aufgabe** bekommen **Abzugleichen**, ob unsere **Kunden umgezogen** sind und wie sich die Anzahl der **Bestellungen entwickelt** hat. Veränderungen sollen übersichtlich dargestellt werden."
   ]
  },
  {
   "cell_type": "code",
   "execution_count": null,
   "metadata": {},
   "outputs": [],
   "source": [
    "# benötigte Daten einlesen\n",
    "kundendaten_aktuell = pd.read_excel('Kundendaten.xlsx', sheet_name = 'Kundendaten', skiprows = 1, usecols = 'A, C, D, F')\n",
    "kundendaten_vorjahr = pd.read_excel('Kundendaten_Vorjahr.xlsx', sheet_name = 'Kundendaten_Vorjahr', skiprows = 1, usecols = 'A, C, D, F')\n",
    "\n",
    "print(kundendaten_aktuell)\n",
    "print(kundendaten_vorjahr)"
   ]
  },
  {
   "cell_type": "markdown",
   "metadata": {},
   "source": [
    "## **DataFrames zusammenführen**\n",
    "Mittels der Funktion **\"pd.merge()\"** können zwei DataFrames **zusammengeführt** werden. Dabei müssen/können der Funktion **Argumente** übergeben werden, wie z.B.:\n",
    "- **\"left\"**    ->  linkes DataFrame\n",
    "- **\"right\"**   ->  rechtes DataFrame\n",
    "- **\"how\"**     ->  left / right / inner / outer (left entspricht dem SVERWEIS)\n",
    "- **\"on\"**      ->  Suchkriterium \n",
    "- **\"suffixes** ->  Endung für Spaltennamen, die im linken und rechten DataFrame vorkommen"
   ]
  },
  {
   "cell_type": "code",
   "execution_count": null,
   "metadata": {},
   "outputs": [],
   "source": [
    "kundendaten_abgleich = pd.merge(left = kundendaten_aktuell,\n",
    "                                right = kundendaten_vorjahr,\n",
    "                                how = 'outer',\n",
    "                                on = 'Kunden-ID',\n",
    "                                suffixes = ('_Aktuell', '_Vorjahr'))             \n",
    "kundendaten_abgleich"
   ]
  },
  {
   "cell_type": "code",
   "execution_count": null,
   "metadata": {},
   "outputs": [],
   "source": [
    "# Spalte \"Wohnort_Veränderung\" einfügen\n",
    "kundendaten_abgleich.loc[kundendaten_abgleich['Wohnort_Aktuell'] != kundendaten_abgleich['Wohnort_Vorjahr'], 'Wohnort_Veränderung'] = kundendaten_abgleich['Wohnort_Vorjahr'] + '  ->  ' + kundendaten_abgleich['Wohnort_Aktuell']\n",
    "kundendaten_abgleich"
   ]
  },
  {
   "cell_type": "code",
   "execution_count": null,
   "metadata": {},
   "outputs": [],
   "source": [
    "# Saplte mit prozentualer und absoluter Entwicklung der Bestellungen anfügen\n",
    "kundendaten_abgleich['absolut'] = kundendaten_abgleich['Bestellungen_Aktuell'] - kundendaten_abgleich['Bestellungen_Vorjahr']\n",
    "kundendaten_abgleich['prozentual'] = (kundendaten_abgleich['Bestellungen_Aktuell'] - kundendaten_abgleich['Bestellungen_Vorjahr']) / kundendaten_abgleich['Bestellungen_Vorjahr'] * 100\n",
    "kundendaten_abgleich"
   ]
  },
  {
   "cell_type": "markdown",
   "metadata": {},
   "source": [
    "> **Aufgabe:** Finde heraus, ob sich die \"Straße/Hausnummer\" unsere Kunden verändert hat und stelle die Veränderung übersichtlich dar."
   ]
  },
  {
   "cell_type": "markdown",
   "metadata": {},
   "source": [
    "**1. Daten einlesen** (nur die Spalten: \"Kunden-ID\", \"Nachname\" und \"Straße/Hausnummer\")"
   ]
  },
  {
   "cell_type": "code",
   "execution_count": null,
   "metadata": {},
   "outputs": [],
   "source": []
  },
  {
   "cell_type": "code",
   "execution_count": null,
   "metadata": {},
   "outputs": [],
   "source": []
  },
  {
   "cell_type": "code",
   "execution_count": null,
   "metadata": {},
   "outputs": [],
   "source": []
  },
  {
   "cell_type": "markdown",
   "metadata": {},
   "source": [
    "**2. Daten zusammenführen**"
   ]
  },
  {
   "cell_type": "code",
   "execution_count": null,
   "metadata": {},
   "outputs": [],
   "source": []
  },
  {
   "cell_type": "code",
   "execution_count": null,
   "metadata": {},
   "outputs": [],
   "source": []
  },
  {
   "cell_type": "code",
   "execution_count": null,
   "metadata": {},
   "outputs": [],
   "source": []
  },
  {
   "cell_type": "markdown",
   "metadata": {},
   "source": [
    "**3. Spalte \"Straße/Hausnummer_Veränderung\" anfügen** (Inhalt: \"Straße/Hausnummer_alt  ->  Straße/Hausnummer_neu\")"
   ]
  },
  {
   "cell_type": "code",
   "execution_count": null,
   "metadata": {},
   "outputs": [],
   "source": []
  },
  {
   "cell_type": "code",
   "execution_count": null,
   "metadata": {},
   "outputs": [],
   "source": []
  },
  {
   "cell_type": "code",
   "execution_count": null,
   "metadata": {},
   "outputs": [],
   "source": []
  },
  {
   "cell_type": "markdown",
   "metadata": {},
   "source": [
    "# **Backup**"
   ]
  },
  {
   "cell_type": "markdown",
   "metadata": {},
   "source": [
    "**Gruppieren**: Mit der Funktion **\"df.groupby(['Zu gruppierende Spalte 1', 'zu gruppierende Spalte 2', ...]).agg({'zu aggregierende Spalte 1': 'Aggregationsmethode', 'zu aggregierende Spalte 2': 'Aggregationsmethode', ...})\"** können DataFrames gruppiert werden.\n",
    "\n",
    "**Beispiel:**"
   ]
  },
  {
   "cell_type": "code",
   "execution_count": null,
   "metadata": {},
   "outputs": [],
   "source": [
    "kundendaten_abgleich['Gesamt pro Ort'] = kundendaten_abgleich['Bestellungen_Vorjahr'].groupby(kundendaten_abgleich['Wohnort_Vorjahr']).transform('sum')"
   ]
  },
  {
   "cell_type": "code",
   "execution_count": null,
   "metadata": {},
   "outputs": [],
   "source": [
    "kundendaten_abgleich"
   ]
  },
  {
   "cell_type": "code",
   "execution_count": null,
   "metadata": {},
   "outputs": [],
   "source": []
  }
 ],
 "metadata": {
  "interpreter": {
   "hash": "bf38e59c9f91f991676ee20e23fd1d46e31184c6ac0411730292ab69d76d1d5b"
  },
  "kernelspec": {
   "display_name": "Python 3 (ipykernel)",
   "language": "python",
   "name": "python3"
  },
  "language_info": {
   "codemirror_mode": {
    "name": "ipython",
    "version": 3
   },
   "file_extension": ".py",
   "mimetype": "text/x-python",
   "name": "python",
   "nbconvert_exporter": "python",
   "pygments_lexer": "ipython3",
   "version": "3.9.4"
  }
 },
 "nbformat": 4,
 "nbformat_minor": 4
}
